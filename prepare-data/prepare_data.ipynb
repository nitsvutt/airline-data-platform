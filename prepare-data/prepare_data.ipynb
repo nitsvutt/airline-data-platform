{
 "cells": [
  {
   "cell_type": "code",
   "execution_count": 1,
   "id": "02bb98b9",
   "metadata": {},
   "outputs": [],
   "source": [
    "# import libraries\n",
    "import pandas as pd\n",
    "import glob\n",
    "import datetime\n",
    "import numpy as np"
   ]
  },
  {
   "cell_type": "code",
   "execution_count": 2,
   "id": "52131ae9",
   "metadata": {},
   "outputs": [
    {
     "name": "stdout",
     "output_type": "stream",
     "text": [
      "Preparing data for databases...\n",
      "Phase 2001 is running...\n"
     ]
    },
    {
     "name": "stderr",
     "output_type": "stream",
     "text": [
      "/var/folders/7j/7znqk2r92zzd_k0lrb37mpq80000gn/T/ipykernel_96976/2114577519.py:13: DtypeWarning: Columns (48,69,76,77,84) have mixed types. Specify dtype option on import or set low_memory=False.\n",
      "  df = pd.read_csv(\"../extracted_data/db/\" + str(i) + \".csv\")\n"
     ]
    },
    {
     "name": "stdout",
     "output_type": "stream",
     "text": [
      "Initializing mongodb files...\n",
      "Initializing mysql files...\n",
      "Phase 2001 is completed.\n",
      "Phase 2002 is running...\n"
     ]
    },
    {
     "name": "stderr",
     "output_type": "stream",
     "text": [
      "/var/folders/7j/7znqk2r92zzd_k0lrb37mpq80000gn/T/ipykernel_96976/2114577519.py:13: DtypeWarning: Columns (48,69,76,77,84) have mixed types. Specify dtype option on import or set low_memory=False.\n",
      "  df = pd.read_csv(\"../extracted_data/db/\" + str(i) + \".csv\")\n"
     ]
    },
    {
     "name": "stdout",
     "output_type": "stream",
     "text": [
      "Initializing mongodb files...\n",
      "Initializing mysql files...\n",
      "Phase 2002 is completed.\n",
      "Phase 2003 is running...\n"
     ]
    },
    {
     "name": "stderr",
     "output_type": "stream",
     "text": [
      "/var/folders/7j/7znqk2r92zzd_k0lrb37mpq80000gn/T/ipykernel_96976/2114577519.py:13: DtypeWarning: Columns (48,69,76,77,84) have mixed types. Specify dtype option on import or set low_memory=False.\n",
      "  df = pd.read_csv(\"../extracted_data/db/\" + str(i) + \".csv\")\n"
     ]
    },
    {
     "name": "stdout",
     "output_type": "stream",
     "text": [
      "Initializing mongodb files...\n",
      "Initializing mysql files...\n",
      "Phase 2003 is completed.\n",
      "Phase 2004 is running...\n"
     ]
    },
    {
     "name": "stderr",
     "output_type": "stream",
     "text": [
      "/var/folders/7j/7znqk2r92zzd_k0lrb37mpq80000gn/T/ipykernel_96976/2114577519.py:13: DtypeWarning: Columns (69,76,77,84) have mixed types. Specify dtype option on import or set low_memory=False.\n",
      "  df = pd.read_csv(\"../extracted_data/db/\" + str(i) + \".csv\")\n"
     ]
    },
    {
     "name": "stdout",
     "output_type": "stream",
     "text": [
      "Initializing mongodb files...\n",
      "Initializing mysql files...\n",
      "Phase 2004 is completed.\n",
      "Phase 2005 is running...\n"
     ]
    },
    {
     "name": "stderr",
     "output_type": "stream",
     "text": [
      "/var/folders/7j/7znqk2r92zzd_k0lrb37mpq80000gn/T/ipykernel_96976/2114577519.py:13: DtypeWarning: Columns (77,84) have mixed types. Specify dtype option on import or set low_memory=False.\n",
      "  df = pd.read_csv(\"../extracted_data/db/\" + str(i) + \".csv\")\n"
     ]
    },
    {
     "name": "stdout",
     "output_type": "stream",
     "text": [
      "Initializing mongodb files...\n",
      "Initializing mysql files...\n",
      "Phase 2005 is completed.\n",
      "Phase 2006 is running...\n"
     ]
    },
    {
     "name": "stderr",
     "output_type": "stream",
     "text": [
      "/var/folders/7j/7znqk2r92zzd_k0lrb37mpq80000gn/T/ipykernel_96976/2114577519.py:13: DtypeWarning: Columns (48) have mixed types. Specify dtype option on import or set low_memory=False.\n",
      "  df = pd.read_csv(\"../extracted_data/db/\" + str(i) + \".csv\")\n"
     ]
    },
    {
     "name": "stdout",
     "output_type": "stream",
     "text": [
      "Initializing mongodb files...\n",
      "Initializing mysql files...\n",
      "Phase 2006 is completed.\n",
      "Phase 2007 is running...\n"
     ]
    },
    {
     "name": "stderr",
     "output_type": "stream",
     "text": [
      "/var/folders/7j/7znqk2r92zzd_k0lrb37mpq80000gn/T/ipykernel_96976/2114577519.py:13: DtypeWarning: Columns (77,84) have mixed types. Specify dtype option on import or set low_memory=False.\n",
      "  df = pd.read_csv(\"../extracted_data/db/\" + str(i) + \".csv\")\n"
     ]
    },
    {
     "name": "stdout",
     "output_type": "stream",
     "text": [
      "Initializing mongodb files...\n",
      "Initializing mysql files...\n",
      "Phase 2007 is completed.\n",
      "Phase 2008 is running...\n"
     ]
    },
    {
     "name": "stderr",
     "output_type": "stream",
     "text": [
      "/var/folders/7j/7znqk2r92zzd_k0lrb37mpq80000gn/T/ipykernel_96976/2114577519.py:13: DtypeWarning: Columns (69,76,77,84) have mixed types. Specify dtype option on import or set low_memory=False.\n",
      "  df = pd.read_csv(\"../extracted_data/db/\" + str(i) + \".csv\")\n"
     ]
    },
    {
     "name": "stdout",
     "output_type": "stream",
     "text": [
      "Initializing mongodb files...\n",
      "Initializing mysql files...\n",
      "Phase 2008 is completed.\n",
      "Phase 2009 is running...\n"
     ]
    },
    {
     "name": "stderr",
     "output_type": "stream",
     "text": [
      "/var/folders/7j/7znqk2r92zzd_k0lrb37mpq80000gn/T/ipykernel_96976/2114577519.py:13: DtypeWarning: Columns (77,84) have mixed types. Specify dtype option on import or set low_memory=False.\n",
      "  df = pd.read_csv(\"../extracted_data/db/\" + str(i) + \".csv\")\n"
     ]
    },
    {
     "name": "stdout",
     "output_type": "stream",
     "text": [
      "Initializing mongodb files...\n",
      "Initializing mysql files...\n",
      "Phase 2009 is completed.\n",
      "Phase 2010 is running...\n"
     ]
    },
    {
     "name": "stderr",
     "output_type": "stream",
     "text": [
      "/var/folders/7j/7znqk2r92zzd_k0lrb37mpq80000gn/T/ipykernel_96976/2114577519.py:13: DtypeWarning: Columns (77,84) have mixed types. Specify dtype option on import or set low_memory=False.\n",
      "  df = pd.read_csv(\"../extracted_data/db/\" + str(i) + \".csv\")\n"
     ]
    },
    {
     "name": "stdout",
     "output_type": "stream",
     "text": [
      "Initializing mongodb files...\n",
      "Initializing mysql files...\n",
      "Phase 2010 is completed.\n",
      "Phase 2011 is running...\n"
     ]
    },
    {
     "name": "stderr",
     "output_type": "stream",
     "text": [
      "/var/folders/7j/7znqk2r92zzd_k0lrb37mpq80000gn/T/ipykernel_96976/2114577519.py:13: DtypeWarning: Columns (48,77) have mixed types. Specify dtype option on import or set low_memory=False.\n",
      "  df = pd.read_csv(\"../extracted_data/db/\" + str(i) + \".csv\")\n"
     ]
    },
    {
     "name": "stdout",
     "output_type": "stream",
     "text": [
      "Initializing mongodb files...\n",
      "Initializing mysql files...\n",
      "Phase 2011 is completed.\n",
      "Phase 2012 is running...\n"
     ]
    },
    {
     "name": "stderr",
     "output_type": "stream",
     "text": [
      "/var/folders/7j/7znqk2r92zzd_k0lrb37mpq80000gn/T/ipykernel_96976/2114577519.py:13: DtypeWarning: Columns (76,77,84) have mixed types. Specify dtype option on import or set low_memory=False.\n",
      "  df = pd.read_csv(\"../extracted_data/db/\" + str(i) + \".csv\")\n"
     ]
    },
    {
     "name": "stdout",
     "output_type": "stream",
     "text": [
      "Initializing mongodb files...\n",
      "Initializing mysql files...\n",
      "Phase 2012 is completed.\n",
      "Data for databases are all prepared.\n",
      "\n"
     ]
    }
   ],
   "source": [
    "# prepare data for databases\n",
    "print(\"Preparing data for databases...\")\n",
    "\n",
    "# get all files from extracted_data/db/\n",
    "files = glob.glob(\"../extracted_data/db/*.csv\")\n",
    "files.sort()\n",
    "\n",
    "for file in files:\n",
    "    i = file.split(\"/\")[3].split('.')[0]\n",
    "    print(\"Phase \" + str(i) + \" is running...\")\n",
    "    \n",
    "    # load csv file to dataframe\n",
    "    df = pd.read_csv(\"../extracted_data/db/\" + str(i) + \".csv\")\n",
    "    df = df.iloc[:, :61]\n",
    "    df.columns = ['Year', 'Quarter', 'Month', 'DayofMonth', 'DayOfWeek', 'FlightDate',\n",
    "       'Reporting_Airline', 'DOT_ID_Reporting_Airline',\n",
    "       'IATA_CODE_Reporting_Airline', 'Tail_Number',\n",
    "       'Flight_Number_Reporting_Airline', 'OriginAirportID',\n",
    "       'OriginAirportSeqID', 'OriginCityMarketID', 'Origin', 'OriginCityName',\n",
    "       'OriginState', 'OriginStateFips', 'OriginStateName', 'OriginWac',\n",
    "       'DestAirportID', 'DestAirportSeqID', 'DestCityMarketID', 'Dest',\n",
    "       'DestCityName', 'DestState', 'DestStateFips', 'DestStateName',\n",
    "       'DestWac', 'CRSDepTime', 'DepTime', 'DepDelay', 'DepDelayMinutes',\n",
    "       'DepDel15', 'DepartureDelayGroups', 'DepTimeBlk', 'TaxiOut',\n",
    "       'WheelsOff', 'WheelsOn', 'TaxiIn', 'CRSArrTime', 'ArrTime', 'ArrDelay',\n",
    "       'ArrDelayMinutes', 'ArrDel15', 'ArrivalDelayGroups', 'ArrTimeBlk',\n",
    "       'Cancelled', 'CancellationCode', 'Diverted', 'CRSElapsedTime',\n",
    "       'ActualElapsedTime', 'AirTime', 'Flights', 'Distance', 'DistanceGroup',\n",
    "       'CarrierDelay', 'WeatherDelay', 'NASDelay', 'SecurityDelay',\n",
    "       'LateAircraftDelay']\n",
    "    \n",
    "    # add timestamp column to dataframe\n",
    "    df['EntryDate'] = df['Year'].apply(lambda x: datetime.datetime.now()) # better to create real data\n",
    "    # df['EntryDate'] = np.where(True, datetime.datetime.now(), 0) # better to raise performance\n",
    "    \n",
    "    # create index for mongodb and mysql\n",
    "    idx_mongodb = []\n",
    "    idx_mysql = []\n",
    "    for j in df.index.values:\n",
    "        if j%2==0:\n",
    "            idx_mongodb.append(j)\n",
    "        else:\n",
    "            idx_mysql.append(j)\n",
    "    \n",
    "    # initialize mongodb files\n",
    "    print(\"Initializing mongodb files...\")\n",
    "    df_mongodb = df.filter(items = idx_mongodb, axis=0)\n",
    "    df_mongodb.to_csv(\"../extracted_data/mongodb/db/\" + str(i) + \".csv\", index=False)\n",
    "    \n",
    "    # initialize mysql files\n",
    "    print(\"Initializing mysql files...\")\n",
    "    df_mysql = df.filter(items = idx_mysql, axis=0)\n",
    "    df_mysql.to_csv(\"../extracted_data/mysql/db/\" + str(i) + \".csv\", index=False)\n",
    "    \n",
    "    print(\"Phase \" + str(i) + \" is completed.\")\n",
    "    \n",
    "print(\"Data for databases are all prepared.\\n\")"
   ]
  },
  {
   "cell_type": "code",
   "execution_count": 3,
   "id": "70b8d239",
   "metadata": {},
   "outputs": [
    {
     "name": "stdout",
     "output_type": "stream",
     "text": [
      "Preparing data for streaming...\n",
      "Phase 2101 is running...\n"
     ]
    },
    {
     "name": "stderr",
     "output_type": "stream",
     "text": [
      "/var/folders/7j/7znqk2r92zzd_k0lrb37mpq80000gn/T/ipykernel_96976/1477119915.py:13: DtypeWarning: Columns (69,76,77,84) have mixed types. Specify dtype option on import or set low_memory=False.\n",
      "  df = pd.read_csv(\"../extracted_data/streaming/\" + str(i) + \".csv\")\n"
     ]
    },
    {
     "name": "stdout",
     "output_type": "stream",
     "text": [
      "Initializing mongodb files...\n",
      "Initializing mysql files...\n",
      "Phase 2101 is completed.\n",
      "Phase 2102 is running...\n"
     ]
    },
    {
     "name": "stderr",
     "output_type": "stream",
     "text": [
      "/var/folders/7j/7znqk2r92zzd_k0lrb37mpq80000gn/T/ipykernel_96976/1477119915.py:13: DtypeWarning: Columns (77,84) have mixed types. Specify dtype option on import or set low_memory=False.\n",
      "  df = pd.read_csv(\"../extracted_data/streaming/\" + str(i) + \".csv\")\n"
     ]
    },
    {
     "name": "stdout",
     "output_type": "stream",
     "text": [
      "Initializing mongodb files...\n",
      "Initializing mysql files...\n",
      "Phase 2102 is completed.\n",
      "Phase 2103 is running...\n"
     ]
    },
    {
     "name": "stderr",
     "output_type": "stream",
     "text": [
      "/var/folders/7j/7znqk2r92zzd_k0lrb37mpq80000gn/T/ipykernel_96976/1477119915.py:13: DtypeWarning: Columns (77,84) have mixed types. Specify dtype option on import or set low_memory=False.\n",
      "  df = pd.read_csv(\"../extracted_data/streaming/\" + str(i) + \".csv\")\n"
     ]
    },
    {
     "name": "stdout",
     "output_type": "stream",
     "text": [
      "Initializing mongodb files...\n",
      "Initializing mysql files...\n",
      "Phase 2103 is completed.\n",
      "Phase 2104 is running...\n"
     ]
    },
    {
     "name": "stderr",
     "output_type": "stream",
     "text": [
      "/var/folders/7j/7znqk2r92zzd_k0lrb37mpq80000gn/T/ipykernel_96976/1477119915.py:13: DtypeWarning: Columns (48,77,84) have mixed types. Specify dtype option on import or set low_memory=False.\n",
      "  df = pd.read_csv(\"../extracted_data/streaming/\" + str(i) + \".csv\")\n"
     ]
    },
    {
     "name": "stdout",
     "output_type": "stream",
     "text": [
      "Initializing mongodb files...\n",
      "Initializing mysql files...\n",
      "Phase 2104 is completed.\n",
      "Phase 2105 is running...\n"
     ]
    },
    {
     "name": "stderr",
     "output_type": "stream",
     "text": [
      "/var/folders/7j/7znqk2r92zzd_k0lrb37mpq80000gn/T/ipykernel_96976/1477119915.py:13: DtypeWarning: Columns (77,84) have mixed types. Specify dtype option on import or set low_memory=False.\n",
      "  df = pd.read_csv(\"../extracted_data/streaming/\" + str(i) + \".csv\")\n"
     ]
    },
    {
     "name": "stdout",
     "output_type": "stream",
     "text": [
      "Initializing mongodb files...\n",
      "Initializing mysql files...\n",
      "Phase 2105 is completed.\n",
      "Phase 2106 is running...\n"
     ]
    },
    {
     "name": "stderr",
     "output_type": "stream",
     "text": [
      "/var/folders/7j/7znqk2r92zzd_k0lrb37mpq80000gn/T/ipykernel_96976/1477119915.py:13: DtypeWarning: Columns (48,69,76,77,84) have mixed types. Specify dtype option on import or set low_memory=False.\n",
      "  df = pd.read_csv(\"../extracted_data/streaming/\" + str(i) + \".csv\")\n"
     ]
    },
    {
     "name": "stdout",
     "output_type": "stream",
     "text": [
      "Initializing mongodb files...\n",
      "Initializing mysql files...\n",
      "Phase 2106 is completed.\n",
      "Phase 2107 is running...\n"
     ]
    },
    {
     "name": "stderr",
     "output_type": "stream",
     "text": [
      "/var/folders/7j/7znqk2r92zzd_k0lrb37mpq80000gn/T/ipykernel_96976/1477119915.py:13: DtypeWarning: Columns (48,69,76,77,84) have mixed types. Specify dtype option on import or set low_memory=False.\n",
      "  df = pd.read_csv(\"../extracted_data/streaming/\" + str(i) + \".csv\")\n"
     ]
    },
    {
     "name": "stdout",
     "output_type": "stream",
     "text": [
      "Initializing mongodb files...\n",
      "Initializing mysql files...\n",
      "Phase 2107 is completed.\n",
      "Phase 2108 is running...\n"
     ]
    },
    {
     "name": "stderr",
     "output_type": "stream",
     "text": [
      "/var/folders/7j/7znqk2r92zzd_k0lrb37mpq80000gn/T/ipykernel_96976/1477119915.py:13: DtypeWarning: Columns (48,76,77,84) have mixed types. Specify dtype option on import or set low_memory=False.\n",
      "  df = pd.read_csv(\"../extracted_data/streaming/\" + str(i) + \".csv\")\n"
     ]
    },
    {
     "name": "stdout",
     "output_type": "stream",
     "text": [
      "Initializing mongodb files...\n",
      "Initializing mysql files...\n",
      "Phase 2108 is completed.\n",
      "Phase 2109 is running...\n"
     ]
    },
    {
     "name": "stderr",
     "output_type": "stream",
     "text": [
      "/var/folders/7j/7znqk2r92zzd_k0lrb37mpq80000gn/T/ipykernel_96976/1477119915.py:13: DtypeWarning: Columns (48,77,84) have mixed types. Specify dtype option on import or set low_memory=False.\n",
      "  df = pd.read_csv(\"../extracted_data/streaming/\" + str(i) + \".csv\")\n"
     ]
    },
    {
     "name": "stdout",
     "output_type": "stream",
     "text": [
      "Initializing mongodb files...\n",
      "Initializing mysql files...\n",
      "Phase 2109 is completed.\n",
      "Phase 2110 is running...\n"
     ]
    },
    {
     "name": "stderr",
     "output_type": "stream",
     "text": [
      "/var/folders/7j/7znqk2r92zzd_k0lrb37mpq80000gn/T/ipykernel_96976/1477119915.py:13: DtypeWarning: Columns (48,77,84) have mixed types. Specify dtype option on import or set low_memory=False.\n",
      "  df = pd.read_csv(\"../extracted_data/streaming/\" + str(i) + \".csv\")\n"
     ]
    },
    {
     "name": "stdout",
     "output_type": "stream",
     "text": [
      "Initializing mongodb files...\n",
      "Initializing mysql files...\n",
      "Phase 2110 is completed.\n",
      "Phase 2111 is running...\n"
     ]
    },
    {
     "name": "stderr",
     "output_type": "stream",
     "text": [
      "/var/folders/7j/7znqk2r92zzd_k0lrb37mpq80000gn/T/ipykernel_96976/1477119915.py:13: DtypeWarning: Columns (48,77) have mixed types. Specify dtype option on import or set low_memory=False.\n",
      "  df = pd.read_csv(\"../extracted_data/streaming/\" + str(i) + \".csv\")\n"
     ]
    },
    {
     "name": "stdout",
     "output_type": "stream",
     "text": [
      "Initializing mongodb files...\n",
      "Initializing mysql files...\n",
      "Phase 2111 is completed.\n",
      "Phase 2112 is running...\n"
     ]
    },
    {
     "name": "stderr",
     "output_type": "stream",
     "text": [
      "/var/folders/7j/7znqk2r92zzd_k0lrb37mpq80000gn/T/ipykernel_96976/1477119915.py:13: DtypeWarning: Columns (48,77,84) have mixed types. Specify dtype option on import or set low_memory=False.\n",
      "  df = pd.read_csv(\"../extracted_data/streaming/\" + str(i) + \".csv\")\n"
     ]
    },
    {
     "name": "stdout",
     "output_type": "stream",
     "text": [
      "Initializing mongodb files...\n",
      "Initializing mysql files...\n",
      "Phase 2112 is completed.\n",
      "Phase 2201 is running...\n"
     ]
    },
    {
     "name": "stderr",
     "output_type": "stream",
     "text": [
      "/var/folders/7j/7znqk2r92zzd_k0lrb37mpq80000gn/T/ipykernel_96976/1477119915.py:13: DtypeWarning: Columns (77,84) have mixed types. Specify dtype option on import or set low_memory=False.\n",
      "  df = pd.read_csv(\"../extracted_data/streaming/\" + str(i) + \".csv\")\n"
     ]
    },
    {
     "name": "stdout",
     "output_type": "stream",
     "text": [
      "Initializing mongodb files...\n",
      "Initializing mysql files...\n",
      "Phase 2201 is completed.\n",
      "Phase 2202 is running...\n"
     ]
    },
    {
     "name": "stderr",
     "output_type": "stream",
     "text": [
      "/var/folders/7j/7znqk2r92zzd_k0lrb37mpq80000gn/T/ipykernel_96976/1477119915.py:13: DtypeWarning: Columns (69,76,77,84) have mixed types. Specify dtype option on import or set low_memory=False.\n",
      "  df = pd.read_csv(\"../extracted_data/streaming/\" + str(i) + \".csv\")\n"
     ]
    },
    {
     "name": "stdout",
     "output_type": "stream",
     "text": [
      "Initializing mongodb files...\n",
      "Initializing mysql files...\n",
      "Phase 2202 is completed.\n",
      "Phase 2203 is running...\n"
     ]
    },
    {
     "name": "stderr",
     "output_type": "stream",
     "text": [
      "/var/folders/7j/7znqk2r92zzd_k0lrb37mpq80000gn/T/ipykernel_96976/1477119915.py:13: DtypeWarning: Columns (77,84,85) have mixed types. Specify dtype option on import or set low_memory=False.\n",
      "  df = pd.read_csv(\"../extracted_data/streaming/\" + str(i) + \".csv\")\n"
     ]
    },
    {
     "name": "stdout",
     "output_type": "stream",
     "text": [
      "Initializing mongodb files...\n",
      "Initializing mysql files...\n",
      "Phase 2203 is completed.\n",
      "Phase 2204 is running...\n"
     ]
    },
    {
     "name": "stderr",
     "output_type": "stream",
     "text": [
      "/var/folders/7j/7znqk2r92zzd_k0lrb37mpq80000gn/T/ipykernel_96976/1477119915.py:13: DtypeWarning: Columns (77,84) have mixed types. Specify dtype option on import or set low_memory=False.\n",
      "  df = pd.read_csv(\"../extracted_data/streaming/\" + str(i) + \".csv\")\n"
     ]
    },
    {
     "name": "stdout",
     "output_type": "stream",
     "text": [
      "Initializing mongodb files...\n",
      "Initializing mysql files...\n",
      "Phase 2204 is completed.\n",
      "Phase 2205 is running...\n"
     ]
    },
    {
     "name": "stderr",
     "output_type": "stream",
     "text": [
      "/var/folders/7j/7znqk2r92zzd_k0lrb37mpq80000gn/T/ipykernel_96976/1477119915.py:13: DtypeWarning: Columns (77,84) have mixed types. Specify dtype option on import or set low_memory=False.\n",
      "  df = pd.read_csv(\"../extracted_data/streaming/\" + str(i) + \".csv\")\n"
     ]
    },
    {
     "name": "stdout",
     "output_type": "stream",
     "text": [
      "Initializing mongodb files...\n",
      "Initializing mysql files...\n",
      "Phase 2205 is completed.\n",
      "Phase 2206 is running...\n"
     ]
    },
    {
     "name": "stderr",
     "output_type": "stream",
     "text": [
      "/var/folders/7j/7znqk2r92zzd_k0lrb37mpq80000gn/T/ipykernel_96976/1477119915.py:13: DtypeWarning: Columns (77,84) have mixed types. Specify dtype option on import or set low_memory=False.\n",
      "  df = pd.read_csv(\"../extracted_data/streaming/\" + str(i) + \".csv\")\n"
     ]
    },
    {
     "name": "stdout",
     "output_type": "stream",
     "text": [
      "Initializing mongodb files...\n",
      "Initializing mysql files...\n",
      "Phase 2206 is completed.\n",
      "Phase 2207 is running...\n"
     ]
    },
    {
     "name": "stderr",
     "output_type": "stream",
     "text": [
      "/var/folders/7j/7znqk2r92zzd_k0lrb37mpq80000gn/T/ipykernel_96976/1477119915.py:13: DtypeWarning: Columns (77,84) have mixed types. Specify dtype option on import or set low_memory=False.\n",
      "  df = pd.read_csv(\"../extracted_data/streaming/\" + str(i) + \".csv\")\n"
     ]
    },
    {
     "name": "stdout",
     "output_type": "stream",
     "text": [
      "Initializing mongodb files...\n",
      "Initializing mysql files...\n",
      "Phase 2207 is completed.\n",
      "Phase 2208 is running...\n"
     ]
    },
    {
     "name": "stderr",
     "output_type": "stream",
     "text": [
      "/var/folders/7j/7znqk2r92zzd_k0lrb37mpq80000gn/T/ipykernel_96976/1477119915.py:13: DtypeWarning: Columns (77,84) have mixed types. Specify dtype option on import or set low_memory=False.\n",
      "  df = pd.read_csv(\"../extracted_data/streaming/\" + str(i) + \".csv\")\n"
     ]
    },
    {
     "name": "stdout",
     "output_type": "stream",
     "text": [
      "Initializing mongodb files...\n",
      "Initializing mysql files...\n",
      "Phase 2208 is completed.\n",
      "Phase 2209 is running...\n"
     ]
    },
    {
     "name": "stderr",
     "output_type": "stream",
     "text": [
      "/var/folders/7j/7znqk2r92zzd_k0lrb37mpq80000gn/T/ipykernel_96976/1477119915.py:13: DtypeWarning: Columns (77,84) have mixed types. Specify dtype option on import or set low_memory=False.\n",
      "  df = pd.read_csv(\"../extracted_data/streaming/\" + str(i) + \".csv\")\n"
     ]
    },
    {
     "name": "stdout",
     "output_type": "stream",
     "text": [
      "Initializing mongodb files...\n",
      "Initializing mysql files...\n",
      "Phase 2209 is completed.\n",
      "Phase 2210 is running...\n"
     ]
    },
    {
     "name": "stderr",
     "output_type": "stream",
     "text": [
      "/var/folders/7j/7znqk2r92zzd_k0lrb37mpq80000gn/T/ipykernel_96976/1477119915.py:13: DtypeWarning: Columns (77,84) have mixed types. Specify dtype option on import or set low_memory=False.\n",
      "  df = pd.read_csv(\"../extracted_data/streaming/\" + str(i) + \".csv\")\n"
     ]
    },
    {
     "name": "stdout",
     "output_type": "stream",
     "text": [
      "Initializing mongodb files...\n",
      "Initializing mysql files...\n",
      "Phase 2210 is completed.\n",
      "Phase 2211 is running...\n"
     ]
    },
    {
     "name": "stderr",
     "output_type": "stream",
     "text": [
      "/var/folders/7j/7znqk2r92zzd_k0lrb37mpq80000gn/T/ipykernel_96976/1477119915.py:13: DtypeWarning: Columns (77,84) have mixed types. Specify dtype option on import or set low_memory=False.\n",
      "  df = pd.read_csv(\"../extracted_data/streaming/\" + str(i) + \".csv\")\n"
     ]
    },
    {
     "name": "stdout",
     "output_type": "stream",
     "text": [
      "Initializing mongodb files...\n",
      "Initializing mysql files...\n",
      "Phase 2211 is completed.\n",
      "Phase 2212 is running...\n"
     ]
    },
    {
     "name": "stderr",
     "output_type": "stream",
     "text": [
      "/var/folders/7j/7znqk2r92zzd_k0lrb37mpq80000gn/T/ipykernel_96976/1477119915.py:13: DtypeWarning: Columns (77,84) have mixed types. Specify dtype option on import or set low_memory=False.\n",
      "  df = pd.read_csv(\"../extracted_data/streaming/\" + str(i) + \".csv\")\n"
     ]
    },
    {
     "name": "stdout",
     "output_type": "stream",
     "text": [
      "Initializing mongodb files...\n",
      "Initializing mysql files...\n",
      "Phase 2212 is completed.\n",
      "Data for streaming are all prepared.\n"
     ]
    }
   ],
   "source": [
    "# prepare data for streaming\n",
    "print(\"Preparing data for streaming...\")\n",
    "\n",
    "# get all files from extracted_data/streaming/\n",
    "files = glob.glob(\"../extracted_data/streaming/*.csv\")\n",
    "files.sort()\n",
    "\n",
    "for file in files:\n",
    "    i = file.split(\"/\")[3].split('.')[0]\n",
    "    print(\"Phase \" + str(i) + \" is running...\")\n",
    "    \n",
    "    # load csv file to dataframe\n",
    "    df = pd.read_csv(\"../extracted_data/streaming/\" + str(i) + \".csv\")\n",
    "    df = df.iloc[:, :61]\n",
    "    df.columns = ['Year', 'Quarter', 'Month', 'DayofMonth', 'DayOfWeek', 'FlightDate',\n",
    "       'Reporting_Airline', 'DOT_ID_Reporting_Airline',\n",
    "       'IATA_CODE_Reporting_Airline', 'Tail_Number',\n",
    "       'Flight_Number_Reporting_Airline', 'OriginAirportID',\n",
    "       'OriginAirportSeqID', 'OriginCityMarketID', 'Origin', 'OriginCityName',\n",
    "       'OriginState', 'OriginStateFips', 'OriginStateName', 'OriginWac',\n",
    "       'DestAirportID', 'DestAirportSeqID', 'DestCityMarketID', 'Dest',\n",
    "       'DestCityName', 'DestState', 'DestStateFips', 'DestStateName',\n",
    "       'DestWac', 'CRSDepTime', 'DepTime', 'DepDelay', 'DepDelayMinutes',\n",
    "       'DepDel15', 'DepartureDelayGroups', 'DepTimeBlk', 'TaxiOut',\n",
    "       'WheelsOff', 'WheelsOn', 'TaxiIn', 'CRSArrTime', 'ArrTime', 'ArrDelay',\n",
    "       'ArrDelayMinutes', 'ArrDel15', 'ArrivalDelayGroups', 'ArrTimeBlk',\n",
    "       'Cancelled', 'CancellationCode', 'Diverted', 'CRSElapsedTime',\n",
    "       'ActualElapsedTime', 'AirTime', 'Flights', 'Distance', 'DistanceGroup',\n",
    "       'CarrierDelay', 'WeatherDelay', 'NASDelay', 'SecurityDelay',\n",
    "       'LateAircraftDelay']\n",
    "    \n",
    "    # add timestamp column to dataframe\n",
    "    df['EntryDate'] = df['Year'].apply(lambda x: datetime.datetime.now()) # better to create real data\n",
    "    # df['EntryDate'] = np.where(True, datetime.datetime.now(), 0) # better to raise performance\n",
    "    \n",
    "    # create index for mongodb and mysql\n",
    "    idx_mongodb = []\n",
    "    idx_mysql = []\n",
    "    for j in df.index.values:\n",
    "        if j%2==0:\n",
    "            idx_mongodb.append(j)\n",
    "        else:\n",
    "            idx_mysql.append(j)\n",
    "    \n",
    "    # initialize mongodb files\n",
    "    print(\"Initializing mongodb files...\")\n",
    "    df_mongodb = df.filter(items = idx_mongodb, axis=0)\n",
    "    df_mongodb.to_csv(\"../extracted_data/mongodb/streaming/\" + str(i) + \".csv\", index=False)\n",
    "    \n",
    "    # initialize mysql files\n",
    "    print(\"Initializing mysql files...\")\n",
    "    df_mysql = df.filter(items = idx_mysql, axis=0)\n",
    "    df_mysql.to_csv(\"../extracted_data/mysql/streaming/\" + str(i) + \".csv\", index=False)\n",
    "    \n",
    "    print(\"Phase \" + str(i) + \" is completed.\")\n",
    "\n",
    "print(\"Data for streaming are all prepared.\")"
   ]
  }
 ],
 "metadata": {
  "kernelspec": {
   "display_name": "Python 3 (ipykernel)",
   "language": "python",
   "name": "python3"
  },
  "language_info": {
   "codemirror_mode": {
    "name": "ipython",
    "version": 3
   },
   "file_extension": ".py",
   "mimetype": "text/x-python",
   "name": "python",
   "nbconvert_exporter": "python",
   "pygments_lexer": "ipython3",
   "version": "3.10.5"
  }
 },
 "nbformat": 4,
 "nbformat_minor": 5
}
